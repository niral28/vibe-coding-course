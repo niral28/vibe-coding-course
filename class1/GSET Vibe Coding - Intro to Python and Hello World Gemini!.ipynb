{
 "cells": [
  {
   "cell_type": "markdown",
   "id": "b799e656",
   "metadata": {},
   "source": [
    "# Intro to Python and Hello World Gemini!\n",
    "\n",
    "- GSET Vibe Coding\n",
    "\n",
    "\n",
    "Niral Shah"
   ]
  },
  {
   "cell_type": "markdown",
   "id": "57a95b5c",
   "metadata": {},
   "source": [
    "## Some Python Fundamentals\n",
    "\n",
    "Data Types - some key ones we'll be working with are Strings (text), Numbers (integers and decimals) and Booleans (true/false)\n",
    "\n",
    "### String (text)\n",
    "name = \"Alex\"\n",
    "favorite_color = \"blue\"\n",
    "\n",
    "### Numbers\n",
    "age = 16\n",
    "height = 5.8\n",
    "\n",
    "### Boolean (True/False)\n",
    "is_student = True\n",
    "\n"
   ]
  },
  {
   "cell_type": "code",
   "execution_count": null,
   "id": "eceda54b",
   "metadata": {},
   "outputs": [],
   "source": [
    "# Defining variables \n",
    "\n",
    "name = \"Alex\"\n",
    "favorite_color = \"blue\"\n",
    "age = 16\n",
    "height = 5.8\n",
    "is_student = True"
   ]
  },
  {
   "cell_type": "code",
   "execution_count": null,
   "id": "5352540b",
   "metadata": {},
   "outputs": [],
   "source": [
    "# Printing output\n",
    "\n",
    "print(f\"Hi, I'm {name}! I'm {age} years old.\")"
   ]
  },
  {
   "cell_type": "code",
   "execution_count": null,
   "id": "78b803da",
   "metadata": {},
   "outputs": [],
   "source": [
    "if is_student:\n",
    "    print(f'and {name} is a Student 🧑‍🎓')\n",
    "else:\n",
    "    print(f'and {name} is an adult 🤓')"
   ]
  },
  {
   "cell_type": "code",
   "execution_count": null,
   "id": "c209e599",
   "metadata": {},
   "outputs": [],
   "source": [
    "# Asking for input\n",
    "\n",
    "my_name = input(\"What's your name:\\n\")\n",
    "print(f'Hi {my_name}!')"
   ]
  },
  {
   "cell_type": "markdown",
   "id": "1a1886ce",
   "metadata": {},
   "source": [
    "## Lists\n",
    "\n",
    "Lists are collections of items that can hold multiple values. They're one of the most useful data structures in Python!"
   ]
  },
  {
   "cell_type": "code",
   "execution_count": null,
   "id": "mc3kcdjn0z",
   "metadata": {},
   "outputs": [],
   "source": [
    "# Creating lists\n",
    "fruits = [\"apple\", \"banana\", \"orange\", \"grape\"]\n",
    "numbers = [1, 2, 3, 4, 5]\n",
    "mixed_list = [\"hello\", 42, True, 3.14]\n",
    "\n",
    "print(\"Fruits:\", fruits)\n",
    "print(\"Numbers:\", numbers)\n",
    "print(\"Mixed list:\", mixed_list)"
   ]
  },
  {
   "cell_type": "code",
   "execution_count": null,
   "id": "s76cm6zqpx",
   "metadata": {},
   "outputs": [],
   "source": [
    "# Accessing items in lists (indexing starts at 0)\n",
    "print(\"First fruit:\", fruits[0])\n",
    "print(\"Last fruit:\", fruits[-1])\n",
    "\n",
    "# Adding items to lists\n",
    "fruits.append(\"strawberry\")\n",
    "print(\"After adding strawberry:\", fruits)\n",
    "\n",
    "# Length of a list\n",
    "print(\"Number of fruits:\", len(fruits))"
   ]
  },
  {
   "cell_type": "markdown",
   "id": "k3lw9rcmvx",
   "metadata": {},
   "source": [
    "## For Loops\n",
    "\n",
    "For loops let us repeat actions for each item in a collection (like a list). They're perfect for processing multiple items!"
   ]
  },
  {
   "cell_type": "code",
   "execution_count": null,
   "id": "bc37hq3va4b",
   "metadata": {},
   "outputs": [],
   "source": [
    "# Basic for loop - going through each item in a list\n",
    "print(\"All fruits:\")\n",
    "for fruit in fruits:\n",
    "    print(f\"- {fruit}\")\n",
    "\n",
    "print(\"\\nSquaring numbers:\")\n",
    "for num in numbers:\n",
    "    squared = num * num\n",
    "    print(f\"{num} squared is {squared}\")"
   ]
  },
  {
   "cell_type": "code",
   "execution_count": null,
   "id": "w9et9jjoown",
   "metadata": {},
   "outputs": [],
   "source": [
    "# Using range() to create a sequence of numbers\n",
    "print(\"Counting from 1 to 5:\")\n",
    "for i in range(1, 6):\n",
    "    print(f\"Count: {i}\")\n",
    "\n",
    "print(\"\\nCounting by 2s:\")\n",
    "for i in range(0, 11, 2):\n",
    "    print(f\"Even number: {i}\")"
   ]
  },
  {
   "cell_type": "markdown",
   "id": "832zw1crm3a",
   "metadata": {},
   "source": [
    "## While Loops\n",
    "\n",
    "While loops repeat actions as long as a condition is True. They're great when you don't know exactly how many times you need to loop!"
   ]
  },
  {
   "cell_type": "code",
   "execution_count": null,
   "id": "sndjjmln1j",
   "metadata": {},
   "outputs": [],
   "source": [
    "# Basic while loop - countdown\n",
    "countdown = 5\n",
    "print(\"Countdown:\")\n",
    "while countdown > 0:\n",
    "    print(f\"{countdown}...\")\n",
    "    countdown -= 1  # Same as countdown = countdown - 1\n",
    "print(\"Blast off! 🚀\")"
   ]
  },
  {
   "cell_type": "code",
   "execution_count": null,
   "id": "wvzxqlwe8v",
   "metadata": {},
   "outputs": [],
   "source": [
    "# While loop with user input (for demonstration)\n",
    "# Note: This would wait for user input in an interactive environment\n",
    "secret_number = 7\n",
    "guess = 0\n",
    "\n",
    "print(\"I'm thinking of a number between 1 and 10...\")\n",
    "while guess != secret_number:\n",
    "    guess = int(input(\"What's your guess? \"))\n",
    "    if guess < secret_number:\n",
    "        print(\"Too low!\")\n",
    "    elif guess > secret_number:\n",
    "        print(\"Too high!\")\n",
    "    else:\n",
    "        print(\"You got it! 🎉\")\n",
    "        break"
   ]
  },
  {
   "cell_type": "markdown",
   "id": "mktgx106ns",
   "metadata": {},
   "source": [
    "## Hello World Gemini! 🤖\n",
    "\n",
    "Now let's connect to Google's Gemini AI using the developer API! First, we need to install the required library and set up our API key.\n",
    "\n",
    "[Instructions](https://ai.google.dev/gemini-api/docs/quickstart?lang=python)"
   ]
  },
  {
   "cell_type": "code",
   "execution_count": null,
   "id": "a13ad346",
   "metadata": {},
   "outputs": [],
   "source": [
    "!pip install -q -U google-genai"
   ]
  },
  {
   "cell_type": "code",
   "execution_count": null,
   "id": "e82x5azs5tt",
   "metadata": {},
   "outputs": [],
   "source": [
    "# Install the Google Generative AI library\n",
    "# Run this once: pip install google-genai\n",
    "\n",
    "import os\n",
    "\n",
    "os.environ['GEMINI_API_KEY'] = '<API KEY>'\n",
    "\n",
    "from google import genai\n",
    "# The client gets the API key from the environment variable `GEMINI_API_KEY`.\n",
    "client = genai.Client()\n",
    "\n",
    "response = client.models.generate_content(\n",
    "    model=\"gemini-2.5-flash\", contents=\"Tell me a good joke about vibe coders!\"\n",
    ")\n",
    "print(response.text)"
   ]
  },
  {
   "cell_type": "code",
   "execution_count": null,
   "id": "000c2a90",
   "metadata": {},
   "outputs": [],
   "source": [
    "!pip install openai==\"1.93.0\""
   ]
  },
  {
   "cell_type": "code",
   "execution_count": null,
   "id": "a8zgdhd4t9t",
   "metadata": {},
   "outputs": [],
   "source": [
    "import os\n",
    "from openai import OpenAI\n",
    "\n",
    "client = OpenAI(\n",
    "    api_key=os.environ['GEMINI_API_KEY'],\n",
    "    base_url=\"https://generativelanguage.googleapis.com/v1beta/openai/\"\n",
    ")\n",
    "\n",
    "response = client.chat.completions.create(\n",
    "    model=\"gemini-2.5-flash\",\n",
    "    messages=[\n",
    "        {\"role\": \"system\", \"content\": \"You are a helpful assistant.\"},\n",
    "        {\n",
    "            \"role\": \"user\",\n",
    "            \"content\": \"Explain to me how vibe coding is in a few words\"\n",
    "        }\n",
    "    ]\n",
    ")\n",
    "\n",
    "if response.choices[0]:\n",
    "    print(response.choices[0].message.content)"
   ]
  },
  {
   "cell_type": "code",
   "execution_count": null,
   "id": "0ts7om3il8bn",
   "metadata": {},
   "outputs": [],
   "source": [
    "# Let's create a more interactive example\n",
    "def chat_with_gemini(max_user_turns:int = 5):\n",
    "    messages=[\n",
    "            {\"role\": \"system\", \"content\": \"You are a helpful assistant.\"},\n",
    "        ]\n",
    "    count=0\n",
    "    client = OpenAI(\n",
    "        api_key=os.environ['GEMINI_API_KEY'],\n",
    "        base_url=\"https://generativelanguage.googleapis.com/v1beta/openai/\"\n",
    "    )\n",
    "    \n",
    "    print(\"Let's chat with Gemini!\")\n",
    "    while count < 5:\n",
    "        request = input('User: ')\n",
    "        if request.strip() == 'q':\n",
    "            print('Exiting!')\n",
    "            break\n",
    "        while True:\n",
    "            if request:\n",
    "                messages.append({'role': 'user', 'content': request})\n",
    "                break\n",
    "            else:\n",
    "                print('Please provide a valid message (cannot be empty)')\n",
    "        response = client.chat.completions.create(\n",
    "            model=\"gemini-2.5-flash\",\n",
    "            messages=messages\n",
    "        )\n",
    "        count+=1\n",
    "        if response.choices[0]:\n",
    "            messages.append(\n",
    "                {\"role\": \"assistant\", \"content\": response.choices[0].message.content}\n",
    "            )\n",
    "            print(f'Assistant: {response.choices[0].message.content}')\n",
    "    print('Reached Chat Limit!')\n",
    "    \n",
    "# Run our interactive chat\n",
    "chat_with_gemini()"
   ]
  },
  {
   "cell_type": "markdown",
   "id": "efvqeacr8nv",
   "metadata": {},
   "source": [
    "## Next Steps\n",
    "\n",
    "Congratulations! You've learned:\n",
    "- Python basics (variables, data types)\n",
    "- Lists and how to work with them\n",
    "- For loops and while loops\n",
    "- How to connect to Google's Gemini AI API\n",
    "\n",
    "Try experimenting with different prompts to Gemini, or combine what you've learned to create more complex programs!"
   ]
  }
 ],
 "metadata": {
  "kernelspec": {
   "display_name": "Python 3 (ipykernel)",
   "language": "python",
   "name": "python3"
  },
  "language_info": {
   "codemirror_mode": {
    "name": "ipython",
    "version": 3
   },
   "file_extension": ".py",
   "mimetype": "text/x-python",
   "name": "python",
   "nbconvert_exporter": "python",
   "pygments_lexer": "ipython3",
   "version": "3.9.13"
  }
 },
 "nbformat": 4,
 "nbformat_minor": 5
}
