{
  "nbformat": 4,
  "nbformat_minor": 0,
  "metadata": {
    "colab": {
      "provenance": [],
      "authorship_tag": "ABX9TyM0oshdb+STzNBFxfqFx66V",
      "include_colab_link": true
    },
    "kernelspec": {
      "name": "python3",
      "display_name": "Python 3"
    },
    "language_info": {
      "name": "python"
    }
  },
  "cells": [
    {
      "cell_type": "markdown",
      "metadata": {
        "id": "view-in-github",
        "colab_type": "text"
      },
      "source": [
        "<a href=\"https://colab.research.google.com/github/niral28/vibe-coding-course/blob/main/TinyShakespeareNanoGPT.ipynb\" target=\"_parent\"><img src=\"https://colab.research.google.com/assets/colab-badge.svg\" alt=\"Open In Colab\"/></a>"
      ]
    },
    {
      "cell_type": "markdown",
      "source": [
        "# NanoGPT Learning Exercise: From Pre-training to RLHF\n",
        "## Educational notebook for understanding the complete LLM training pipeline\n",
        "\n",
        "By: Niral Shah\n",
        "GSET Vibe Coding: AI Remix\n",
        "\n",
        "\n",
        "Learning Objectives:\n",
        "1. Understand data preprocessing and tokenization\n",
        "2. Implement a simple GPT model from scratch\n",
        "3. Train the model using next-token prediction (pre-training)\n",
        "4. Apply Supervised Fine-Tuning (SFT) for instruction following\n",
        "5. Implement basic Reinforcement Learning from Human Feedback (RLHF)\n"
      ],
      "metadata": {
        "id": "hl3xD36ZBiEu"
      }
    },
    {
      "cell_type": "code",
      "execution_count": 1,
      "metadata": {
        "colab": {
          "base_uri": "https://localhost:8080/"
        },
        "id": "I1kwJ6dsBEIX",
        "outputId": "145c997a-0fd7-4a36-997a-a0b786297c14"
      },
      "outputs": [
        {
          "output_type": "stream",
          "name": "stdout",
          "text": [
            "🚀 Welcome to the NanoGPT Learning Exercise!\n",
            "We'll build a GPT model from scratch and take it through the full training pipeline.\n"
          ]
        }
      ],
      "source": [
        "import torch\n",
        "import torch.nn as nn\n",
        "from torch.nn import functional as F\n",
        "import numpy as np\n",
        "import matplotlib.pyplot as plt\n",
        "from torch.utils.data import Dataset, DataLoader\n",
        "import json\n",
        "import random\n",
        "from typing import List, Dict, Tuple\n",
        "import warnings\n",
        "warnings.filterwarnings('ignore')\n",
        "\n",
        "# Set random seeds for reproducibility\n",
        "torch.manual_seed(1337)\n",
        "np.random.seed(1337)\n",
        "random.seed(1337)\n",
        "\n",
        "print(\"🚀 Welcome to the NanoGPT Learning Exercise!\")\n",
        "print(\"We'll build a GPT model from scratch and take it through the full training pipeline.\")\n"
      ]
    },
    {
      "cell_type": "markdown",
      "source": [
        "# =============================================================================\n",
        "# SECTION 1: DATA PREPARATION AND TOKENIZATION\n"
      ],
      "metadata": {
        "id": "X_bju5K_BYZw"
      }
    },
    {
      "cell_type": "code",
      "source": [
        "\n",
        "print(\"\\n\" + \"=\"*60)\n",
        "print(\"SECTION 1: DATA PREPARATION AND TOKENIZATION\")\n",
        "print(\"=\"*60)\n",
        "\n",
        "# Download the tiny shakespeare dataset\n",
        "import urllib.request\n",
        "import os\n",
        "\n",
        "if not os.path.exists('input.txt'):\n",
        "    print(\"📥 Downloading Tiny Shakespeare dataset...\")\n",
        "    url = \"https://raw.githubusercontent.com/karpathy/char-rnn/master/data/tinyshakespeare/input.txt\"\n",
        "    urllib.request.urlretrieve(url, 'input.txt')\n",
        "    print(\"✅ Dataset downloaded!\")\n",
        "\n",
        "# Read the dataset\n",
        "with open('input.txt', 'r', encoding='utf-8') as f:\n",
        "    text = f.read()"
      ],
      "metadata": {
        "colab": {
          "base_uri": "https://localhost:8080/"
        },
        "id": "C22iWUMbBTRT",
        "outputId": "a4f7d3c1-b421-4517-e0c0-6a5615d9144a"
      },
      "execution_count": 2,
      "outputs": [
        {
          "output_type": "stream",
          "name": "stdout",
          "text": [
            "\n",
            "============================================================\n",
            "SECTION 1: DATA PREPARATION AND TOKENIZATION\n",
            "============================================================\n",
            "📥 Downloading Tiny Shakespeare dataset...\n",
            "✅ Dataset downloaded!\n"
          ]
        }
      ]
    },
    {
      "cell_type": "code",
      "source": [
        "\n",
        "print(f\"📊 Dataset size: {len(text):,} characters\")\n",
        "print(f\"📖 First 500 characters:\")\n",
        "print(text[:500])"
      ],
      "metadata": {
        "colab": {
          "base_uri": "https://localhost:8080/"
        },
        "id": "VHt7sfayB5U6",
        "outputId": "724c009f-2317-45eb-ca27-882aa334e3da"
      },
      "execution_count": 3,
      "outputs": [
        {
          "output_type": "stream",
          "name": "stdout",
          "text": [
            "📊 Dataset size: 1,115,394 characters\n",
            "📖 First 500 characters:\n",
            "First Citizen:\n",
            "Before we proceed any further, hear me speak.\n",
            "\n",
            "All:\n",
            "Speak, speak.\n",
            "\n",
            "First Citizen:\n",
            "You are all resolved rather to die than to famish?\n",
            "\n",
            "All:\n",
            "Resolved. resolved.\n",
            "\n",
            "First Citizen:\n",
            "First, you know Caius Marcius is chief enemy to the people.\n",
            "\n",
            "All:\n",
            "We know't, we know't.\n",
            "\n",
            "First Citizen:\n",
            "Let us kill him, and we'll have corn at our own price.\n",
            "Is't a verdict?\n",
            "\n",
            "All:\n",
            "No more talking on't; let it be done: away, away!\n",
            "\n",
            "Second Citizen:\n",
            "One word, good citizens.\n",
            "\n",
            "First Citizen:\n",
            "We are accounted poor\n"
          ]
        }
      ]
    },
    {
      "cell_type": "code",
      "source": [
        "# EXERCISE 1: Character-level tokenization\n",
        "print(\"\\n🔤 EXERCISE 1: Understanding Tokenization\")\n",
        "print(\"-\" * 40)\n",
        "\n",
        "# Get unique characters and create vocabulary\n",
        "chars = sorted(list(set(text)))\n",
        "vocab_size = len(chars)\n",
        "print(f\"Vocabulary: {''.join(chars)}\")\n",
        "print(f\"Vocabulary size: {vocab_size}\")"
      ],
      "metadata": {
        "colab": {
          "base_uri": "https://localhost:8080/"
        },
        "id": "PYKQnIcyCVy-",
        "outputId": "debe82d9-329e-4507-ba45-33c371709097"
      },
      "execution_count": 5,
      "outputs": [
        {
          "output_type": "stream",
          "name": "stdout",
          "text": [
            "\n",
            "🔤 EXERCISE 1: Understanding Tokenization\n",
            "----------------------------------------\n",
            "Vocabulary: \n",
            " !$&',-.3:;?ABCDEFGHIJKLMNOPQRSTUVWXYZabcdefghijklmnopqrstuvwxyz\n",
            "Vocabulary size: 65\n"
          ]
        }
      ]
    },
    {
      "cell_type": "code",
      "source": [
        "# Create character mappings\n",
        "stoi = {ch: i for i, ch in enumerate(chars)}  # string to integer\n",
        "itos = {i: ch for i, ch in enumerate(chars)}  # integer to string\n",
        "\n",
        "# Encoding and decoding functions\n",
        "encode = lambda s: [stoi[c] for c in s]\n",
        "decode = lambda l: ''.join([itos[i] for i in l])\n",
        "\n",
        "# Test encoding/decoding\n",
        "test_string = \"hello world\"\n",
        "encoded = encode(test_string)\n",
        "decoded = decode(encoded)\n",
        "print(f\"Original: '{test_string}'\")\n",
        "print(f\"Encoded: {encoded}\")\n",
        "print(f\"Decoded: '{decoded}'\")"
      ],
      "metadata": {
        "colab": {
          "base_uri": "https://localhost:8080/"
        },
        "id": "6oiESTuMCc39",
        "outputId": "91948484-f5e2-4132-953e-599f5c1980e5"
      },
      "execution_count": 6,
      "outputs": [
        {
          "output_type": "stream",
          "name": "stdout",
          "text": [
            "Original: 'hello world'\n",
            "Encoded: [46, 43, 50, 50, 53, 1, 61, 53, 56, 50, 42]\n",
            "Decoded: 'hello world'\n"
          ]
        }
      ]
    },
    {
      "cell_type": "markdown",
      "source": [
        "## STUDENT EXERCISE: Try encoding your own string\n",
        "print(\"\\n✏️ YOUR TURN: Try encoding your name or a short phrase!\")"
      ],
      "metadata": {
        "id": "B6fVzB1ECjiA"
      }
    },
    {
      "cell_type": "code",
      "source": [
        "# your_string = \"your name here\"  # Replace with your string\n",
        "# encoded_result = encode(your_string)\n",
        "# print(f\"Your string encoded: {encoded_result}\")\n",
        "\n",
        "# Convert entire dataset to tokens\n",
        "data = torch.tensor(encode(text), dtype=torch.long)\n",
        "print(f\"\\n📈 Tokenized dataset shape: {data.shape}\")\n",
        "\n",
        "# Train/validation split\n",
        "n = int(0.9 * len(data))\n",
        "train_data = data[:n]\n",
        "val_data = data[n:]\n",
        "print(f\"Training tokens: {len(train_data):,}\")\n",
        "print(f\"Validation tokens: {len(val_data):,}\")"
      ],
      "metadata": {
        "colab": {
          "base_uri": "https://localhost:8080/"
        },
        "id": "Ff0LsyrFCQOo",
        "outputId": "29f22092-1b6f-423f-ba76-c3043876e118"
      },
      "execution_count": 7,
      "outputs": [
        {
          "output_type": "stream",
          "name": "stdout",
          "text": [
            "\n",
            "📈 Tokenized dataset shape: torch.Size([1115394])\n",
            "Training tokens: 1,003,854\n",
            "Validation tokens: 111,540\n"
          ]
        }
      ]
    },
    {
      "cell_type": "markdown",
      "source": [
        "## SECTION 2: UNDERSTANDING CONTEXT WINDOWS AND BATCHING"
      ],
      "metadata": {
        "id": "R2mbVRfBCwvS"
      }
    },
    {
      "cell_type": "code",
      "source": [
        "\n",
        "print(\"\\n\" + \"=\"*60)\n",
        "print(\"SECTION 2: CONTEXT WINDOWS AND BATCHING\")\n",
        "print(\"=\"*60)\n",
        "\n",
        "# Hyperparameters\n",
        "block_size = 8  # Maximum context length\n",
        "batch_size = 4  # Number of sequences processed in parallel\n",
        "\n",
        "def get_batch(split):\n",
        "    \"\"\"Generate a batch of data for training or validation.\"\"\"\n",
        "    data_source = train_data if split == 'train' else val_data\n",
        "    ix = torch.randint(len(data_source) - block_size, (batch_size,))\n",
        "    x = torch.stack([data_source[i:i + block_size] for i in ix])\n",
        "    y = torch.stack([data_source[i + 1:i + block_size + 1] for i in ix])\n",
        "    return x, y"
      ],
      "metadata": {
        "colab": {
          "base_uri": "https://localhost:8080/"
        },
        "id": "Wc0KTlgQCC-d",
        "outputId": "e5ba9266-3a23-4c93-9257-32b3a40ce535"
      },
      "execution_count": 8,
      "outputs": [
        {
          "output_type": "stream",
          "name": "stdout",
          "text": [
            "\n",
            "============================================================\n",
            "SECTION 2: CONTEXT WINDOWS AND BATCHING\n",
            "============================================================\n"
          ]
        }
      ]
    },
    {
      "cell_type": "code",
      "source": [
        "# EXERCISE 2: Understanding the training setup\n",
        "print(\"\\n🎯 EXERCISE 2: Understanding Context and Targets\")\n",
        "print(\"-\" * 40)\n",
        "\n",
        "xb, yb = get_batch('train')\n",
        "print(f\"Input batch shape: {xb.shape}\")\n",
        "print(f\"Target batch shape: {yb.shape}\")\n",
        "print(f\"\\nExample batch:\")\n",
        "print(f\"Inputs (x): {xb}\")\n",
        "print(f\"Targets (y): {yb}\")\n",
        "\n",
        "print(\"\\n📚 Understanding the training pairs:\")\n",
        "for b in range(min(2, batch_size)):  # Show first 2 sequences\n",
        "    print(f\"\\nSequence {b + 1}:\")\n",
        "    for t in range(min(4, block_size)):  # Show first 4 positions\n",
        "        context = xb[b, :t + 1]\n",
        "        target = yb[b, t]\n",
        "        context_str = decode(context.tolist())\n",
        "        target_str = itos[target.item()]\n",
        "        print(f\"  Context: '{context_str}' → Target: '{target_str}'\")"
      ],
      "metadata": {
        "colab": {
          "base_uri": "https://localhost:8080/"
        },
        "id": "OE0J22qfC1En",
        "outputId": "b57d4de3-ecc6-4adc-fe35-016e769161e9"
      },
      "execution_count": 9,
      "outputs": [
        {
          "output_type": "stream",
          "name": "stdout",
          "text": [
            "\n",
            "🎯 EXERCISE 2: Understanding Context and Targets\n",
            "----------------------------------------\n",
            "Input batch shape: torch.Size([4, 8])\n",
            "Target batch shape: torch.Size([4, 8])\n",
            "\n",
            "Example batch:\n",
            "Inputs (x): tensor([[24, 43, 58,  5, 57,  1, 46, 43],\n",
            "        [44, 53, 56,  1, 58, 46, 39, 58],\n",
            "        [52, 58,  1, 58, 46, 39, 58,  1],\n",
            "        [25, 17, 27, 10,  0, 21,  1, 54]])\n",
            "Targets (y): tensor([[43, 58,  5, 57,  1, 46, 43, 39],\n",
            "        [53, 56,  1, 58, 46, 39, 58,  1],\n",
            "        [58,  1, 58, 46, 39, 58,  1, 46],\n",
            "        [17, 27, 10,  0, 21,  1, 54, 39]])\n",
            "\n",
            "📚 Understanding the training pairs:\n",
            "\n",
            "Sequence 1:\n",
            "  Context: 'L' → Target: 'e'\n",
            "  Context: 'Le' → Target: 't'\n",
            "  Context: 'Let' → Target: '''\n",
            "  Context: 'Let'' → Target: 's'\n",
            "\n",
            "Sequence 2:\n",
            "  Context: 'f' → Target: 'o'\n",
            "  Context: 'fo' → Target: 'r'\n",
            "  Context: 'for' → Target: ' '\n",
            "  Context: 'for ' → Target: 't'\n"
          ]
        }
      ]
    },
    {
      "cell_type": "markdown",
      "source": [
        "## SECTION 3: BUILDING THE GPT MODEL"
      ],
      "metadata": {
        "id": "7WhNM1ggDQ1b"
      }
    },
    {
      "cell_type": "code",
      "source": [
        "print(\"\\n\" + \"=\"*60)\n",
        "print(\"SECTION 3: BUILDING THE GPT MODEL\")\n",
        "print(\"=\"*60)\n",
        "\n",
        "# Model hyperparameters\n",
        "n_embd = 64      # Embedding dimension\n",
        "n_head = 4       # Number of attention heads\n",
        "n_layer = 4      # Number of transformer blocks\n",
        "dropout = 0.1    # Dropout rate\n",
        "\n",
        "class Head(nn.Module):\n",
        "    \"\"\"Single head of self-attention.\"\"\"\n",
        "\n",
        "    def __init__(self, head_size):\n",
        "        super().__init__()\n",
        "        self.key = nn.Linear(n_embd, head_size, bias=False)\n",
        "        self.query = nn.Linear(n_embd, head_size, bias=False)\n",
        "        self.value = nn.Linear(n_embd, head_size, bias=False)\n",
        "        self.register_buffer('tril', torch.tril(torch.ones(block_size, block_size)))\n",
        "        self.dropout = nn.Dropout(dropout)\n",
        "\n",
        "    def forward(self, x):\n",
        "        B, T, C = x.shape\n",
        "        k = self.key(x)    # (B, T, head_size)\n",
        "        q = self.query(x)  # (B, T, head_size)\n",
        "\n",
        "        # Compute attention scores\n",
        "        wei = q @ k.transpose(-2, -1) * C**-0.5  # Scaled attention\n",
        "        wei = wei.masked_fill(self.tril[:T, :T] == 0, float('-inf'))\n",
        "        wei = F.softmax(wei, dim=-1)\n",
        "        wei = self.dropout(wei)\n",
        "\n",
        "        # Apply attention to values\n",
        "        v = self.value(x)\n",
        "        out = wei @ v\n",
        "        return out\n",
        "\n",
        "class MultiHeadAttention(nn.Module):\n",
        "    \"\"\"Multiple heads of self-attention in parallel.\"\"\"\n",
        "\n",
        "    def __init__(self, num_heads, head_size):\n",
        "        super().__init__()\n",
        "        self.heads = nn.ModuleList([Head(head_size) for _ in range(num_heads)])\n",
        "        self.proj = nn.Linear(n_embd, n_embd)\n",
        "        self.dropout = nn.Dropout(dropout)\n",
        "\n",
        "    def forward(self, x):\n",
        "        out = torch.cat([h(x) for h in self.heads], dim=-1)\n",
        "        out = self.dropout(self.proj(out))\n",
        "        return out\n",
        "\n",
        "class FeedForward(nn.Module):\n",
        "    \"\"\"Position-wise feed-forward network.\"\"\"\n",
        "\n",
        "    def __init__(self, n_embd):\n",
        "        super().__init__()\n",
        "        self.net = nn.Sequential(\n",
        "            nn.Linear(n_embd, 4 * n_embd),\n",
        "            nn.ReLU(),\n",
        "            nn.Linear(4 * n_embd, n_embd),\n",
        "            nn.Dropout(dropout),\n",
        "        )\n",
        "\n",
        "    def forward(self, x):\n",
        "        return self.net(x)\n",
        "\n",
        "class Block(nn.Module):\n",
        "    \"\"\"Transformer block: communication (attention) + computation (feed-forward).\"\"\"\n",
        "\n",
        "    def __init__(self, n_embd, n_head):\n",
        "        super().__init__()\n",
        "        head_size = n_embd // n_head\n",
        "        self.sa = MultiHeadAttention(n_head, head_size)\n",
        "        self.ffwd = FeedForward(n_embd)\n",
        "        self.ln1 = nn.LayerNorm(n_embd)\n",
        "        self.ln2 = nn.LayerNorm(n_embd)\n",
        "\n",
        "    def forward(self, x):\n",
        "        # Residual connections with layer norm (pre-norm variant)\n",
        "        x = x + self.sa(self.ln1(x))\n",
        "        x = x + self.ffwd(self.ln2(x))\n",
        "        return x\n",
        "\n",
        "class GPTModel(nn.Module):\n",
        "    \"\"\"A simple GPT model.\"\"\"\n",
        "\n",
        "    def __init__(self):\n",
        "        super().__init__()\n",
        "        self.token_embedding_table = nn.Embedding(vocab_size, n_embd)\n",
        "        self.position_embedding_table = nn.Embedding(block_size, n_embd)\n",
        "        self.blocks = nn.Sequential(*[Block(n_embd, n_head) for _ in range(n_layer)])\n",
        "        self.ln_f = nn.LayerNorm(n_embd)  # Final layer norm\n",
        "        self.lm_head = nn.Linear(n_embd, vocab_size)\n",
        "\n",
        "    def forward(self, idx, targets=None):\n",
        "        B, T = idx.shape\n",
        "\n",
        "        # Get embeddings\n",
        "        tok_emb = self.token_embedding_table(idx)  # (B, T, n_embd)\n",
        "        pos_emb = self.position_embedding_table(torch.arange(T))  # (T, n_embd)\n",
        "        x = tok_emb + pos_emb  # (B, T, n_embd)\n",
        "\n",
        "        # Pass through transformer blocks\n",
        "        x = self.blocks(x)\n",
        "        x = self.ln_f(x)\n",
        "        logits = self.lm_head(x)  # (B, T, vocab_size)\n",
        "\n",
        "        if targets is None:\n",
        "            loss = None\n",
        "        else:\n",
        "            B, T, C = logits.shape\n",
        "            logits = logits.view(B * T, C)\n",
        "            targets = targets.view(B * T)\n",
        "            loss = F.cross_entropy(logits, targets)\n",
        "\n",
        "        return logits, loss\n",
        "\n",
        "    def generate(self, idx, max_new_tokens):\n",
        "        \"\"\"Generate new tokens autoregressively.\"\"\"\n",
        "        for _ in range(max_new_tokens):\n",
        "            # Crop to last block_size tokens\n",
        "            idx_cond = idx[:, -block_size:]\n",
        "            # Get predictions\n",
        "            logits, _ = self(idx_cond)\n",
        "            # Focus on last time step\n",
        "            logits = logits[:, -1, :]  # (B, C)\n",
        "            # Apply softmax\n",
        "            probs = F.softmax(logits, dim=-1)\n",
        "            # Sample from distribution\n",
        "            idx_next = torch.multinomial(probs, num_samples=1)\n",
        "            # Append to sequence\n",
        "            idx = torch.cat((idx, idx_next), dim=1)\n",
        "        return idx\n",
        "\n",
        "# Create model\n",
        "model = GPTModel()\n",
        "total_params = sum(p.numel() for p in model.parameters())\n",
        "print(f\"🧠 Model created with {total_params/1e6:.2f}M parameters\")\n",
        "\n",
        "# Test the model before training\n",
        "print(\"\\n🎲 Sample generation before training:\")\n",
        "context = torch.zeros((1, 1), dtype=torch.long)\n",
        "sample = decode(model.generate(context, max_new_tokens=100)[0].tolist())\n",
        "print(sample[:200] + \"...\")"
      ],
      "metadata": {
        "colab": {
          "base_uri": "https://localhost:8080/"
        },
        "id": "-wwFtNbACrox",
        "outputId": "43db7540-0745-4d80-95a5-04c0da82d69a"
      },
      "execution_count": 10,
      "outputs": [
        {
          "output_type": "stream",
          "name": "stdout",
          "text": [
            "\n",
            "============================================================\n",
            "SECTION 3: BUILDING THE GPT MODEL\n",
            "============================================================\n",
            "🧠 Model created with 0.21M parameters\n",
            "\n",
            "🎲 Sample generation before training:\n",
            "\n",
            ";vFNswf,x&SHwQKgdu;TpS,aJTRl$ZxD&An'lTc$Ala!BQYkeYwJYgm:xr,O:YVhnIYOtfSa$,A,!UUGyIvfykuxR-,TR;UbcQ!Z...\n"
          ]
        }
      ]
    },
    {
      "cell_type": "code",
      "source": [
        "# =============================================================================\n",
        "# SECTION 4: PRE-TRAINING (NEXT TOKEN PREDICTION)\n",
        "# =============================================================================\n",
        "\n",
        "print(\"\\n\" + \"=\"*60)\n",
        "print(\"SECTION 4: PRE-TRAINING (NEXT TOKEN PREDICTION)\")\n",
        "print(\"=\"*60)\n",
        "\n",
        "# Training hyperparameters\n",
        "max_iters = 3000\n",
        "eval_interval = 300\n",
        "learning_rate = 3e-4\n",
        "eval_iters = 200\n",
        "\n",
        "@torch.no_grad()\n",
        "def estimate_loss():\n",
        "    \"\"\"Estimate loss on train and validation sets.\"\"\"\n",
        "    out = {}\n",
        "    model.eval()\n",
        "    for split in ['train', 'val']:\n",
        "        losses = torch.zeros(eval_iters)\n",
        "        for k in range(eval_iters):\n",
        "            X, Y = get_batch(split)\n",
        "            logits, loss = model(X, Y)\n",
        "            losses[k] = loss.item()\n",
        "        out[split] = losses.mean()\n",
        "    model.train()\n",
        "    return out\n",
        "\n",
        "# Create optimizer\n",
        "optimizer = torch.optim.AdamW(model.parameters(), lr=learning_rate)"
      ],
      "metadata": {
        "colab": {
          "base_uri": "https://localhost:8080/"
        },
        "id": "4aeujE42Dplb",
        "outputId": "0abe9f4b-d8bd-4a12-9ea2-496431d133ab"
      },
      "execution_count": 12,
      "outputs": [
        {
          "output_type": "stream",
          "name": "stdout",
          "text": [
            "\n",
            "============================================================\n",
            "SECTION 4: PRE-TRAINING (NEXT TOKEN PREDICTION)\n",
            "============================================================\n"
          ]
        }
      ]
    },
    {
      "cell_type": "code",
      "source": [
        "print(\"🚂 Starting pre-training...\")\n",
        "train_losses = []\n",
        "val_losses = []\n",
        "\n",
        "for iter in range(max_iters):\n",
        "    # Evaluate periodically\n",
        "    if iter % eval_interval == 0 or iter == max_iters - 1:\n",
        "        losses = estimate_loss()\n",
        "        train_losses.append(losses['train'])\n",
        "        val_losses.append(losses['val'])\n",
        "        print(f\"Step {iter:4d}: train loss {losses['train']:.4f}, val loss {losses['val']:.4f}\")\n",
        "\n",
        "    # Training step\n",
        "    xb, yb = get_batch('train')\n",
        "    logits, loss = model(xb, yb)\n",
        "    optimizer.zero_grad(set_to_none=True)\n",
        "    loss.backward()\n",
        "    optimizer.step()\n",
        "\n",
        "print(\"✅ Pre-training completed!\")\n",
        "\n",
        "# Plot training curves\n",
        "plt.figure(figsize=(10, 5))\n",
        "plt.plot(train_losses, label='Training Loss')\n",
        "plt.plot(val_losses, label='Validation Loss')\n",
        "plt.xlabel('Evaluation Steps')\n",
        "plt.ylabel('Loss')\n",
        "plt.title('Pre-training Loss Curves')\n",
        "plt.legend()\n",
        "plt.grid(True)\n",
        "plt.show()\n",
        "\n",
        "# Generate sample after pre-training\n",
        "print(\"\\n📝 Sample generation after pre-training:\")\n",
        "context = torch.zeros((1, 1), dtype=torch.long)\n",
        "sample = decode(model.generate(context, max_new_tokens=500)[0].tolist())\n",
        "print(sample)"
      ],
      "metadata": {
        "colab": {
          "base_uri": "https://localhost:8080/",
          "height": 1000
        },
        "id": "69oCqpzdCrtr",
        "outputId": "dbba4369-62a3-4387-8134-93b2223b1dab"
      },
      "execution_count": 13,
      "outputs": [
        {
          "output_type": "stream",
          "name": "stdout",
          "text": [
            "🚂 Starting pre-training...\n",
            "Step    0: train loss 4.2385, val loss 4.2494\n",
            "Step  300: train loss 2.8896, val loss 2.9064\n",
            "Step  600: train loss 2.6516, val loss 2.6730\n",
            "Step  900: train loss 2.5817, val loss 2.5549\n",
            "Step 1200: train loss 2.5175, val loss 2.4929\n",
            "Step 1500: train loss 2.4642, val loss 2.4785\n",
            "Step 1800: train loss 2.4328, val loss 2.4402\n",
            "Step 2100: train loss 2.4187, val loss 2.4165\n",
            "Step 2400: train loss 2.3751, val loss 2.3783\n",
            "Step 2700: train loss 2.3549, val loss 2.3827\n",
            "Step 2999: train loss 2.3423, val loss 2.3463\n",
            "✅ Pre-training completed!\n"
          ]
        },
        {
          "output_type": "display_data",
          "data": {
            "text/plain": [
              "<Figure size 1000x500 with 1 Axes>"
            ],
            "image/png": "[encoded data removed]"
          },
          "metadata": {}
        },
        {
          "output_type": "stream",
          "name": "stdout",
          "text": [
            "\n",
            "📝 Sample generation after pre-training:\n",
            "\n",
            "\n",
            "CES:\n",
            "And Me blitout ham hamanot ha, wuuch oud fome pay, to minvershed,\n",
            "Ith wy tout neas y worig hBXAndt and wowenee thoce iselce.\n",
            "\n",
            "Water, sor wed son hit ing bethou I thally hea rems ited, st ald itefs thof sorst'des poreakedpllel\n",
            "Thar yougenlke stitene the rom\n",
            "\n",
            "ipase lishy:\n",
            "Muik nout he anotweedllt paour wyat,\n",
            "He.\n",
            "\n",
            "RIIAQINC:\n",
            "AR!KDOMUEO\n",
            "CHINBENThow mee there spea lir:\n",
            "Witley'fkincisto mat tous For, keve he ay amy ue aorof eqis ar feros ashem,foes no med mereerpe Ees lor, aknof mily coud:\n",
            "Ead ha\n"
          ]
        }
      ]
    },
    {
      "cell_type": "markdown",
      "source": [
        "## SECTION 5: SUPERVISED FINE-TUNING (SFT)"
      ],
      "metadata": {
        "id": "7TQsqfKFEHWf"
      }
    },
    {
      "cell_type": "code",
      "source": [
        "print(\"\\n\" + \"=\"*60)\n",
        "print(\"SECTION 5: SUPERVISED FINE-TUNING (SFT)\")\n",
        "print(\"=\"*60)\n",
        "\n",
        "print(\"🎯 Now we'll fine-tune our model to follow instructions!\")\n",
        "\n",
        "# Create instruction-following dataset\n",
        "def create_instruction_dataset():\n",
        "    \"\"\"Create a simple instruction-following dataset.\"\"\"\n",
        "    instructions = [\n",
        "        {\n",
        "            \"instruction\": \"Write a short poem about nature.\",\n",
        "            \"response\": \"The trees sway gently in the breeze,\\nWhile flowers dance among the leaves.\\nNature's beauty brings us peace,\\nA symphony that never cease.\"\n",
        "        },\n",
        "        {\n",
        "            \"instruction\": \"Explain what happiness means.\",\n",
        "            \"response\": \"Happiness is a warm feeling of joy and contentment. It comes from meaningful relationships, personal growth, and finding purpose in life.\"\n",
        "        },\n",
        "        {\n",
        "            \"instruction\": \"Tell me about the ocean.\",\n",
        "            \"response\": \"The ocean is vast and deep, covering most of Earth's surface. It's home to countless creatures and plays a vital role in our climate.\"\n",
        "        },\n",
        "        {\n",
        "            \"instruction\": \"How do you make friends?\",\n",
        "            \"response\": \"Making friends involves being kind, showing genuine interest in others, being a good listener, and participating in activities you enjoy.\"\n",
        "        },\n",
        "        {\n",
        "            \"instruction\": \"What is learning?\",\n",
        "            \"response\": \"Learning is the process of acquiring new knowledge, skills, or understanding through study, experience, or teaching.\"\n",
        "        }\n",
        "    ]\n",
        "\n",
        "    # Format as conversational data\n",
        "    formatted_data = []\n",
        "    for item in instructions:\n",
        "        conversation = f\"Human: {item['instruction']}\\n\\nAssistant: {item['response']}\"\n",
        "        formatted_data.append(conversation)\n",
        "\n",
        "    return formatted_data\n",
        "\n",
        "# Create SFT dataset\n",
        "sft_data = create_instruction_dataset()\n",
        "print(f\"📚 Created {len(sft_data)} instruction examples\")\n",
        "print(\"\\nExample conversation:\")\n",
        "print(sft_data[0])\n",
        "\n",
        "class SFTDataset(Dataset):\n",
        "    \"\"\"Dataset for supervised fine-tuning.\"\"\"\n",
        "\n",
        "    def __init__(self, conversations, block_size):\n",
        "        self.conversations = conversations\n",
        "        self.block_size = block_size\n",
        "\n",
        "        # Tokenize all conversations\n",
        "        self.tokenized_data = []\n",
        "        for conv in conversations:\n",
        "            tokens = encode(conv)\n",
        "            if len(tokens) > block_size:\n",
        "                tokens = tokens[:block_size]\n",
        "            self.tokenized_data.append(tokens)\n",
        "\n",
        "    def __len__(self):\n",
        "        return len(self.tokenized_data)\n",
        "\n",
        "    def __getitem__(self, idx):\n",
        "        tokens = self.tokenized_data[idx]\n",
        "\n",
        "        # Pad if necessary\n",
        "        if len(tokens) < self.block_size:\n",
        "            tokens = tokens + [0] * (self.block_size - len(tokens))\n",
        "\n",
        "        x = torch.tensor(tokens[:-1], dtype=torch.long)\n",
        "        y = torch.tensor(tokens[1:], dtype=torch.long)\n",
        "\n",
        "        return x, y\n",
        "\n",
        "# Create SFT dataset and dataloader\n",
        "sft_dataset = SFTDataset(sft_data * 50, block_size)  # Repeat data for more training\n",
        "sft_dataloader = DataLoader(sft_dataset, batch_size=4, shuffle=True)\n",
        "\n",
        "print(f\"📊 SFT dataset size: {len(sft_dataset)} examples\")"
      ],
      "metadata": {
        "colab": {
          "base_uri": "https://localhost:8080/"
        },
        "id": "6izXIuOaD-73",
        "outputId": "9e67796a-4d08-40cf-c961-ab3acfae6545"
      },
      "execution_count": 14,
      "outputs": [
        {
          "output_type": "stream",
          "name": "stdout",
          "text": [
            "\n",
            "============================================================\n",
            "SECTION 5: SUPERVISED FINE-TUNING (SFT)\n",
            "============================================================\n",
            "🎯 Now we'll fine-tune our model to follow instructions!\n",
            "📚 Created 5 instruction examples\n",
            "\n",
            "Example conversation:\n",
            "Human: Write a short poem about nature.\n",
            "\n",
            "Assistant: The trees sway gently in the breeze,\n",
            "While flowers dance among the leaves.\n",
            "Nature's beauty brings us peace,\n",
            "A symphony that never cease.\n",
            "📊 SFT dataset size: 250 examples\n"
          ]
        }
      ]
    },
    {
      "cell_type": "code",
      "source": [
        "# Fine-tune the model\n",
        "print(\"\\n🎯 Starting supervised fine-tuning...\")\n",
        "\n",
        "# Lower learning rate for fine-tuning\n",
        "sft_optimizer = torch.optim.AdamW(model.parameters(), lr=1e-4)\n",
        "sft_epochs = 5\n",
        "\n",
        "model.train()\n",
        "for epoch in range(sft_epochs):\n",
        "    total_loss = 0\n",
        "    num_batches = 0\n",
        "\n",
        "    for batch_idx, (x, y) in enumerate(sft_dataloader):\n",
        "        # Forward pass\n",
        "        logits, loss = model(x, y)\n",
        "\n",
        "        # Backward pass\n",
        "        sft_optimizer.zero_grad()\n",
        "        loss.backward()\n",
        "        sft_optimizer.step()\n",
        "\n",
        "        total_loss += loss.item()\n",
        "        num_batches += 1\n",
        "\n",
        "        if batch_idx % 20 == 0:\n",
        "            print(f\"Epoch {epoch+1}/{sft_epochs}, Batch {batch_idx}, Loss: {loss.item():.4f}\")\n",
        "\n",
        "    avg_loss = total_loss / num_batches\n",
        "    print(f\"Epoch {epoch+1} completed. Average loss: {avg_loss:.4f}\")\n",
        "\n",
        "print(\"✅ Supervised fine-tuning completed!\")\n",
        "\n",
        "# Test the fine-tuned model\n",
        "print(\"\\n🤖 Testing fine-tuned model:\")\n",
        "test_prompts = [\n",
        "    \"Human: What is friendship?\\n\\nAssistant:\",\n",
        "    \"Human: Write a haiku about rain.\\n\\nAssistant:\",\n",
        "    \"Human: How do plants grow?\\n\\nAssistant:\"\n",
        "]\n",
        "\n",
        "for prompt in test_prompts:\n",
        "    print(f\"\\n{'='*50}\")\n",
        "    print(f\"Prompt: {prompt}\")\n",
        "    prompt_tokens = torch.tensor(encode(prompt), dtype=torch.long).unsqueeze(0)\n",
        "\n",
        "    with torch.no_grad():\n",
        "        response = model.generate(prompt_tokens, max_new_tokens=100)\n",
        "        full_response = decode(response[0].tolist())\n",
        "\n",
        "    print(f\"Response: {full_response}\")"
      ],
      "metadata": {
        "colab": {
          "base_uri": "https://localhost:8080/"
        },
        "id": "vALRYxuBEREW",
        "outputId": "a5b0a5f6-262c-4921-efe4-d5dc4fac4dc8"
      },
      "execution_count": 15,
      "outputs": [
        {
          "output_type": "stream",
          "name": "stdout",
          "text": [
            "\n",
            "🎯 Starting supervised fine-tuning...\n",
            "Epoch 1/5, Batch 0, Loss: 3.4511\n",
            "Epoch 1/5, Batch 20, Loss: 1.6651\n",
            "Epoch 1/5, Batch 40, Loss: 0.9294\n",
            "Epoch 1/5, Batch 60, Loss: 0.5777\n",
            "Epoch 1 completed. Average loss: 1.4621\n",
            "Epoch 2/5, Batch 0, Loss: 0.5410\n",
            "Epoch 2/5, Batch 20, Loss: 0.4831\n",
            "Epoch 2/5, Batch 40, Loss: 0.3682\n",
            "Epoch 2/5, Batch 60, Loss: 0.3251\n",
            "Epoch 2 completed. Average loss: 0.4415\n",
            "Epoch 3/5, Batch 0, Loss: 0.3537\n",
            "Epoch 3/5, Batch 20, Loss: 0.3058\n",
            "Epoch 3/5, Batch 40, Loss: 0.3873\n",
            "Epoch 3/5, Batch 60, Loss: 0.3109\n",
            "Epoch 3 completed. Average loss: 0.3290\n",
            "Epoch 4/5, Batch 0, Loss: 0.3126\n",
            "Epoch 4/5, Batch 20, Loss: 0.3387\n",
            "Epoch 4/5, Batch 40, Loss: 0.2534\n",
            "Epoch 4/5, Batch 60, Loss: 0.3047\n",
            "Epoch 4 completed. Average loss: 0.2850\n",
            "Epoch 5/5, Batch 0, Loss: 0.3236\n",
            "Epoch 5/5, Batch 20, Loss: 0.3060\n",
            "Epoch 5/5, Batch 40, Loss: 0.2881\n",
            "Epoch 5/5, Batch 60, Loss: 0.2905\n",
            "Epoch 5 completed. Average loss: 0.2651\n",
            "✅ Supervised fine-tuning completed!\n",
            "\n",
            "🤖 Testing fine-tuned model:\n",
            "\n",
            "==================================================\n",
            "Prompt: Human: What is friendship?\n",
            "\n",
            "Assistant:\n",
            "Response: Human: What is friendship?\n",
            "\n",
            "Assistant:e man: E Euman: WErnE, Whduman: foTH Wquman: Hvuman: ENan: WHu. chan: Wu, My: Whan: Woud an: TEzL: W\n",
            "\n",
            "==================================================\n",
            "Prompt: Human: Write a haiku about rain.\n",
            "\n",
            "Assistant:\n",
            "Response: Human: Write a haiku about rain.\n",
            "\n",
            "Assistant: an: TEO: uran: HoutAn: Thumar WHE: EFCuman: THuman: The bus VEEN: VWhI HEN$\n",
            "Than: couman:\n",
            "MEETHE:\n",
            "W\n",
            "\n",
            "==================================================\n",
            "Prompt: Human: How do plants grow?\n",
            "\n",
            "Assistant:\n",
            "Response: Human: How do plants grow?\n",
            "\n",
            "Assistant: fun: ES: TWUS: Thu, man: Wan: fuman: HAMthin: ENout HouAn: HHan: Eha Human: Human:e TENroENME'F: E:\n"
          ]
        }
      ]
    },
    {
      "cell_type": "markdown",
      "source": [
        "## SECTION 6: REINFORCEMENT LEARNING FROM HUMAN FEEDBACK (RLHF)"
      ],
      "metadata": {
        "id": "eR2NeeIfE5P8"
      }
    },
    {
      "cell_type": "code",
      "source": [
        "print(\"\\n\" + \"=\"*60)\n",
        "print(\"SECTION 6: REINFORCEMENT LEARNING FROM HUMAN FEEDBACK (RLHF)\")\n",
        "print(\"=\"*60)\n",
        "\n",
        "print(\"🏆 Now we'll implement a simplified version of RLHF!\")\n",
        "\n",
        "class SimpleRewardModel(nn.Module):\n",
        "    \"\"\"A simple reward model that scores responses.\"\"\"\n",
        "\n",
        "    def __init__(self, vocab_size, n_embd):\n",
        "        super().__init__()\n",
        "        self.embedding = nn.Embedding(vocab_size, n_embd)\n",
        "        self.layers = nn.Sequential(\n",
        "            nn.Linear(n_embd, n_embd // 2),\n",
        "            nn.ReLU(),\n",
        "            nn.Linear(n_embd // 2, 1)\n",
        "        )\n",
        "\n",
        "    def forward(self, tokens):\n",
        "        # Simple approach: average embeddings and predict reward\n",
        "        embeddings = self.embedding(tokens)\n",
        "        pooled = embeddings.mean(dim=1)  # Average pooling\n",
        "        reward = self.layers(pooled)\n",
        "        return reward.squeeze()\n",
        "\n",
        "# Create reward model\n",
        "reward_model = SimpleRewardModel(vocab_size, n_embd)\n",
        "print(\"🏅 Reward model created!\")\n",
        "\n",
        "# Simulate human preferences (in practice, this would come from human raters)\n",
        "def simulate_human_preference(response1, response2):\n",
        "    \"\"\"Simulate human preference between two responses.\"\"\"\n",
        "    # Simple heuristic: prefer longer, more varied responses\n",
        "    print(f'Which response do you like better:\\nA) {response1}\\n\\n B){response2}\\n')\n",
        "    preference = input(\"Enter 'A' or 'B': \").strip().upper()\n",
        "    if preference.strip() == 'A':\n",
        "        return 1\n",
        "    else:\n",
        "      return 0\n",
        "    return 1 if score1 > score2 else 0\n",
        "\n",
        "# Generate preference data\n",
        "print(\"\\n📊 Generating preference data...\")\n",
        "preference_data = []\n",
        "\n",
        "prompts = [\n",
        "    \"Human: Tell me about the stars.\\n\\nAssistant:\",\n",
        "    \"Human: What makes a good friend?\\n\\nAssistant:\",\n",
        "    \"Human: Describe a perfect day.\\n\\nAssistant:\"\n",
        "]\n",
        "\n",
        "for prompt in prompts:\n",
        "    prompt_tokens = torch.tensor(encode(prompt), dtype=torch.long).unsqueeze(0)\n",
        "\n",
        "    # Generate two different responses\n",
        "    with torch.no_grad():\n",
        "        response1 = model.generate(prompt_tokens, max_new_tokens=50)\n",
        "        response2 = model.generate(prompt_tokens, max_new_tokens=50)\n",
        "\n",
        "        text1 = decode(response1[0].tolist())\n",
        "        text2 = decode(response2[0].tolist())\n",
        "\n",
        "        # Get human preference\n",
        "        preference = simulate_human_preference(text1, text2)\n",
        "\n",
        "        preference_data.append({\n",
        "            'prompt': prompt,\n",
        "            'response1': text1,\n",
        "            'response2': text2,\n",
        "            'preference': preference  # 1 if response1 preferred, 0 if response2\n",
        "        })\n",
        "\n",
        "print(f\"Generated {len(preference_data)} preference pairs\")"
      ],
      "metadata": {
        "colab": {
          "base_uri": "https://localhost:8080/"
        },
        "id": "-tJ3KPVREd9l",
        "outputId": "dfccf963-57c2-45cd-ef7d-aaa372ff0890"
      },
      "execution_count": 16,
      "outputs": [
        {
          "output_type": "stream",
          "name": "stdout",
          "text": [
            "\n",
            "============================================================\n",
            "SECTION 6: REINFORCEMENT LEARNING FROM HUMAN FEEDBACK (RLHF)\n",
            "============================================================\n",
            "🏆 Now we'll implement a simplified version of RLHF!\n",
            "🏅 Reward model created!\n",
            "\n",
            "📊 Generating preference data...\n",
            "Which response do you like better:\n",
            "A) Human: Tell me about the stars.\n",
            "\n",
            "Assistant: Han: Wumas han: Tun: Whan: WA: EI:'an: Humany Whe\n",
            "\n",
            " B)Human: Tell me about the stars.\n",
            "\n",
            "Assistant: THuman: frdran: Whivinom THaplan: Wrue Whith TENE\n",
            "\n",
            "Enter 'A' or 'B': B\n",
            "Which response do you like better:\n",
            "A) Human: What makes a good friend?\n",
            "\n",
            "Assistant: ThoBum, EE: Wraman: EnCiman: WhuClE min: An: E TH\n",
            "\n",
            " B)Human: What makes a good friend?\n",
            "\n",
            "Assistant:\n",
            "TEwou, Eroun: Whan: WAn: Wyoun: wan: Muman: W; Tu\n",
            "\n",
            "Enter 'A' or 'B': A\n",
            "Which response do you like better:\n",
            "A) Human: Describe a perfect day.\n",
            "\n",
            "Assistant: can: Jun: mann THouman: I Why En: wals KuranLK: E\n",
            "\n",
            " B)Human: Describe a perfect day.\n",
            "\n",
            "Assistant: But ENanKEoz: Human: Hrus CSE: Touge buman: Humou\n",
            "\n",
            "Enter 'A' or 'B': B\n",
            "Generated 3 preference pairs\n"
          ]
        }
      ]
    },
    {
      "cell_type": "code",
      "source": [
        "# Train reward model\n",
        "print(\"\\n🎯 Training reward model...\")\n",
        "reward_optimizer = torch.optim.AdamW(reward_model.parameters(), lr=1e-3)\n",
        "\n",
        "for epoch in range(10):\n",
        "    total_loss = 0\n",
        "\n",
        "    for data in preference_data:\n",
        "        # Tokenize responses\n",
        "        tokens1 = torch.tensor(encode(data['response1']), dtype=torch.long).unsqueeze(0)\n",
        "        tokens2 = torch.tensor(encode(data['response2']), dtype=torch.long).unsqueeze(0)\n",
        "\n",
        "        # Get rewards\n",
        "        reward1 = reward_model(tokens1)\n",
        "        reward2 = reward_model(tokens2)\n",
        "\n",
        "        # Bradley-Terry loss\n",
        "        if data['preference'] == 1:\n",
        "            loss = -torch.log(torch.sigmoid(reward1 - reward2))\n",
        "        else:\n",
        "            loss = -torch.log(torch.sigmoid(reward2 - reward1))\n",
        "\n",
        "        reward_optimizer.zero_grad()\n",
        "        loss.backward()\n",
        "        reward_optimizer.step()\n",
        "\n",
        "        total_loss += loss.item()\n",
        "\n",
        "    if epoch % 2 == 0:\n",
        "        print(f\"Reward model epoch {epoch}, Loss: {total_loss/len(preference_data):.4f}\")\n",
        "\n",
        "print(\"✅ Reward model training completed!\")"
      ],
      "metadata": {
        "colab": {
          "base_uri": "https://localhost:8080/"
        },
        "id": "_If4liWQFtR8",
        "outputId": "b3e4fc5c-637d-44e5-f7ec-7fed705f37ef"
      },
      "execution_count": 17,
      "outputs": [
        {
          "output_type": "stream",
          "name": "stdout",
          "text": [
            "\n",
            "🎯 Training reward model...\n",
            "Reward model epoch 0, Loss: 0.6943\n",
            "Reward model epoch 2, Loss: 0.6812\n",
            "Reward model epoch 4, Loss: 0.6717\n",
            "Reward model epoch 6, Loss: 0.6629\n",
            "Reward model epoch 8, Loss: 0.6531\n",
            "✅ Reward model training completed!\n"
          ]
        }
      ]
    },
    {
      "cell_type": "code",
      "source": [
        "# Simple PPO-style optimization (simplified)\n",
        "print(\"\\n🚀 Applying reinforcement learning...\")\n",
        "\n",
        "def compute_advantages(rewards, values, gamma=0.99):\n",
        "    \"\"\"Compute advantages for PPO.\"\"\"\n",
        "    advantages = []\n",
        "    for i in range(len(rewards)):\n",
        "        advantage = rewards[i] - values[i]\n",
        "        advantages.append(advantage)\n",
        "    return torch.tensor(advantages)\n",
        "\n",
        "# RL fine-tuning loop (simplified)\n",
        "rl_optimizer = torch.optim.AdamW(model.parameters(), lr=5e-5)\n",
        "\n",
        "for rl_step in range(20):\n",
        "    # Generate responses\n",
        "    prompt = \"Human: What is the meaning of life?\\n\\nAssistant:\"\n",
        "    prompt_tokens = torch.tensor(encode(prompt), dtype=torch.long).unsqueeze(0)\n",
        "\n",
        "    # Generate response\n",
        "    with torch.no_grad():\n",
        "        response_tokens = model.generate(prompt_tokens, max_new_tokens=30)\n",
        "\n",
        "    # Get reward\n",
        "    with torch.no_grad():\n",
        "        reward = reward_model(response_tokens)\n",
        "\n",
        "    # Simplified policy gradient step\n",
        "    # Crop response_tokens to block_size before passing to model\n",
        "    cropped_response_tokens = response_tokens[:, -block_size:]\n",
        "    logits, _ = model(cropped_response_tokens[:, :-1], cropped_response_tokens[:, 1:])\n",
        "\n",
        "\n",
        "    # Simple reward-weighted loss\n",
        "    # We need to calculate the loss based on the probability of the generated tokens.\n",
        "    # This is a simplified approach and not a full PPO implementation.\n",
        "    # For this simplified example, we'll use a negative reward as the loss to maximize reward.\n",
        "    loss = -reward.mean()\n",
        "\n",
        "    rl_optimizer.zero_grad()\n",
        "    loss.backward()\n",
        "    rl_optimizer.step()\n",
        "\n",
        "    if rl_step % 5 == 0:\n",
        "        print(f\"RL step {rl_step}, Reward: {reward.mean().item():.4f}\")\n",
        "\n",
        "print(\"✅ RLHF training completed!\")"
      ],
      "metadata": {
        "colab": {
          "base_uri": "https://localhost:8080/",
          "height": 400
        },
        "id": "7KinDEHiFCVJ",
        "outputId": "491af279-cc93-4453-9021-8792ef595998"
      },
      "execution_count": 20,
      "outputs": [
        {
          "output_type": "stream",
          "name": "stdout",
          "text": [
            "\n",
            "🚀 Applying reinforcement learning...\n"
          ]
        },
        {
          "output_type": "error",
          "ename": "RuntimeError",
          "evalue": "element 0 of tensors does not require grad and does not have a grad_fn",
          "traceback": [
            "\u001b[0;31m---------------------------------------------------------------------------\u001b[0m",
            "\u001b[0;31mRuntimeError\u001b[0m                              Traceback (most recent call last)",
            "\u001b[0;32m/tmp/ipython-input-20-1982906781.py\u001b[0m in \u001b[0;36m<cell line: 0>\u001b[0;34m()\u001b[0m\n\u001b[1;32m     39\u001b[0m \u001b[0;34m\u001b[0m\u001b[0m\n\u001b[1;32m     40\u001b[0m     \u001b[0mrl_optimizer\u001b[0m\u001b[0;34m.\u001b[0m\u001b[0mzero_grad\u001b[0m\u001b[0;34m(\u001b[0m\u001b[0;34m)\u001b[0m\u001b[0;34m\u001b[0m\u001b[0;34m\u001b[0m\u001b[0m\n\u001b[0;32m---> 41\u001b[0;31m     \u001b[0mloss\u001b[0m\u001b[0;34m.\u001b[0m\u001b[0mbackward\u001b[0m\u001b[0;34m(\u001b[0m\u001b[0;34m)\u001b[0m\u001b[0;34m\u001b[0m\u001b[0;34m\u001b[0m\u001b[0m\n\u001b[0m\u001b[1;32m     42\u001b[0m     \u001b[0mrl_optimizer\u001b[0m\u001b[0;34m.\u001b[0m\u001b[0mstep\u001b[0m\u001b[0;34m(\u001b[0m\u001b[0;34m)\u001b[0m\u001b[0;34m\u001b[0m\u001b[0;34m\u001b[0m\u001b[0m\n\u001b[1;32m     43\u001b[0m \u001b[0;34m\u001b[0m\u001b[0m\n",
            "\u001b[0;32m/usr/local/lib/python3.11/dist-packages/torch/_tensor.py\u001b[0m in \u001b[0;36mbackward\u001b[0;34m(self, gradient, retain_graph, create_graph, inputs)\u001b[0m\n\u001b[1;32m    624\u001b[0m                 \u001b[0minputs\u001b[0m\u001b[0;34m=\u001b[0m\u001b[0minputs\u001b[0m\u001b[0;34m,\u001b[0m\u001b[0;34m\u001b[0m\u001b[0;34m\u001b[0m\u001b[0m\n\u001b[1;32m    625\u001b[0m             )\n\u001b[0;32m--> 626\u001b[0;31m         torch.autograd.backward(\n\u001b[0m\u001b[1;32m    627\u001b[0m             \u001b[0mself\u001b[0m\u001b[0;34m,\u001b[0m \u001b[0mgradient\u001b[0m\u001b[0;34m,\u001b[0m \u001b[0mretain_graph\u001b[0m\u001b[0;34m,\u001b[0m \u001b[0mcreate_graph\u001b[0m\u001b[0;34m,\u001b[0m \u001b[0minputs\u001b[0m\u001b[0;34m=\u001b[0m\u001b[0minputs\u001b[0m\u001b[0;34m\u001b[0m\u001b[0;34m\u001b[0m\u001b[0m\n\u001b[1;32m    628\u001b[0m         )\n",
            "\u001b[0;32m/usr/local/lib/python3.11/dist-packages/torch/autograd/__init__.py\u001b[0m in \u001b[0;36mbackward\u001b[0;34m(tensors, grad_tensors, retain_graph, create_graph, grad_variables, inputs)\u001b[0m\n\u001b[1;32m    345\u001b[0m     \u001b[0;31m# some Python versions print out the first line of a multi-line function\u001b[0m\u001b[0;34m\u001b[0m\u001b[0;34m\u001b[0m\u001b[0m\n\u001b[1;32m    346\u001b[0m     \u001b[0;31m# calls in the traceback and some print out the last line\u001b[0m\u001b[0;34m\u001b[0m\u001b[0;34m\u001b[0m\u001b[0m\n\u001b[0;32m--> 347\u001b[0;31m     _engine_run_backward(\n\u001b[0m\u001b[1;32m    348\u001b[0m         \u001b[0mtensors\u001b[0m\u001b[0;34m,\u001b[0m\u001b[0;34m\u001b[0m\u001b[0;34m\u001b[0m\u001b[0m\n\u001b[1;32m    349\u001b[0m         \u001b[0mgrad_tensors_\u001b[0m\u001b[0;34m,\u001b[0m\u001b[0;34m\u001b[0m\u001b[0;34m\u001b[0m\u001b[0m\n",
            "\u001b[0;32m/usr/local/lib/python3.11/dist-packages/torch/autograd/graph.py\u001b[0m in \u001b[0;36m_engine_run_backward\u001b[0;34m(t_outputs, *args, **kwargs)\u001b[0m\n\u001b[1;32m    821\u001b[0m         \u001b[0munregister_hooks\u001b[0m \u001b[0;34m=\u001b[0m \u001b[0m_register_logging_hooks_on_whole_graph\u001b[0m\u001b[0;34m(\u001b[0m\u001b[0mt_outputs\u001b[0m\u001b[0;34m)\u001b[0m\u001b[0;34m\u001b[0m\u001b[0;34m\u001b[0m\u001b[0m\n\u001b[1;32m    822\u001b[0m     \u001b[0;32mtry\u001b[0m\u001b[0;34m:\u001b[0m\u001b[0;34m\u001b[0m\u001b[0;34m\u001b[0m\u001b[0m\n\u001b[0;32m--> 823\u001b[0;31m         return Variable._execution_engine.run_backward(  # Calls into the C++ engine to run the backward pass\n\u001b[0m\u001b[1;32m    824\u001b[0m             \u001b[0mt_outputs\u001b[0m\u001b[0;34m,\u001b[0m \u001b[0;34m*\u001b[0m\u001b[0margs\u001b[0m\u001b[0;34m,\u001b[0m \u001b[0;34m**\u001b[0m\u001b[0mkwargs\u001b[0m\u001b[0;34m\u001b[0m\u001b[0;34m\u001b[0m\u001b[0m\n\u001b[1;32m    825\u001b[0m         )  # Calls into the C++ engine to run the backward pass\n",
            "\u001b[0;31mRuntimeError\u001b[0m: element 0 of tensors does not require grad and does not have a grad_fn"
          ]
        }
      ]
    },
    {
      "cell_type": "markdown",
      "source": [
        "## SECTION 7: FINAL EVALUATION"
      ],
      "metadata": {
        "id": "YgFCr7KhEynO"
      }
    },
    {
      "cell_type": "code",
      "source": [
        "print(\"\\n\" + \"=\"*60)\n",
        "print(\"SECTION 7: FINAL EVALUATION\")\n",
        "print(\"=\"*60)\n",
        "\n",
        "print(\"🎉 Let's see how our model performs after the full training pipeline!\")\n",
        "\n",
        "# Test the final model\n",
        "final_test_prompts = [\n",
        "    \"Human: What is artificial intelligence?\\n\\nAssistant:\",\n",
        "    \"Human: Write a story about a robot.\\n\\nAssistant:\",\n",
        "    \"Human: How can I be more creative?\\n\\nAssistant:\",\n",
        "    \"Human: What is the purpose of education?\\n\\nAssistant:\"\n",
        "]\n",
        "\n",
        "for i, prompt in enumerate(final_test_prompts):\n",
        "    print(f\"\\n{'='*60}\")\n",
        "    print(f\"TEST {i+1}\")\n",
        "    print(f\"Prompt: {prompt}\")\n",
        "\n",
        "    prompt_tokens = torch.tensor(encode(prompt), dtype=torch.long).unsqueeze(0)\n",
        "\n",
        "    with torch.no_grad():\n",
        "        response = model.generate(prompt_tokens, max_new_tokens=150)\n",
        "        full_response = decode(response[0].tolist())\n",
        "\n",
        "        # Get reward score\n",
        "        reward_score = reward_model(response)\n",
        "\n",
        "    print(f\"Response: {full_response}\")\n",
        "    print(f\"Reward Score: {reward_score.item():.4f}\")\n"
      ],
      "metadata": {
        "colab": {
          "base_uri": "https://localhost:8080/"
        },
        "id": "Y83wWiMiEvJn",
        "outputId": "f701d894-9a09-4fd0-f34f-bc215d85c57a"
      },
      "execution_count": 21,
      "outputs": [
        {
          "output_type": "stream",
          "name": "stdout",
          "text": [
            "\n",
            "============================================================\n",
            "SECTION 7: FINAL EVALUATION\n",
            "============================================================\n",
            "🎉 Let's see how our model performs after the full training pipeline!\n",
            "\n",
            "============================================================\n",
            "TEST 1\n",
            "Prompt: Human: What is artificial intelligence?\n",
            "\n",
            "Assistant:\n",
            "Response: Human: What is artificial intelligence?\n",
            "\n",
            "Assistant: Mushan tEhan: Human WER: froJan: Houman: an: Hurn Burstingl: Tan: Ewan: youm: of wouman: Whobe youceas W: anue mann: Tuman: Whcriduman: ENuman: T: Wr\n",
            "Reward Score: -0.2289\n",
            "\n",
            "============================================================\n",
            "TEST 2\n",
            "Prompt: Human: Write a story about a robot.\n",
            "\n",
            "Assistant:\n",
            "Response: Human: Write a story about a robot.\n",
            "\n",
            "Assistant: W!f WKEEwAU: E: TTer Wumeyn: Cithum Tun: Human: CHe EERE: MuH HaBumanT: Tin: Wrun: Jhaman: uman: WFen T.\n",
            "WE!\n",
            "WERE EfAn: I Yown: Wiman: Mucoun: Thann:\n",
            "Reward Score: -0.1968\n",
            "\n",
            "============================================================\n",
            "TEST 3\n",
            "Prompt: Human: How can I be more creative?\n",
            "\n",
            "Assistant:\n",
            "Response: Human: How can I be more creative?\n",
            "\n",
            "Assistant: Whrut: Whuman: E: TEEN: doumann HEN: Whean: Thallan: TEO: Human: ;omuprand anunumerll hothumac: VIN houman: ESnoumman: TE, TMus ToucEd TKA:\n",
            "Whan: Hum\n",
            "Reward Score: -0.1872\n",
            "\n",
            "============================================================\n",
            "TEST 4\n",
            "Prompt: Human: What is the purpose of education?\n",
            "\n",
            "Assistant:\n",
            "Response: Human: What is the purpose of education?\n",
            "\n",
            "Assistant: fren: TRouman: EnRC: WUWhRYods Thin: ENuman: I WHan: W$URoEV: EBun: duman: Fhan WCETEE; AO!EUwann: Ein: Wuman:: of EGboman: EMun: HEMuman: HAn: THump\n",
            "Reward Score: -0.1702\n"
          ]
        }
      ]
    },
    {
      "cell_type": "code",
      "source": [
        "# =============================================================================\n",
        "# SECTION 8: EXERCISES AND EXTENSIONS\n",
        "# =============================================================================\n",
        "\n",
        "print(\"\\n\" + \"=\"*60)\n",
        "print(\"SECTION 8: EXERCISES FOR STUDENTS\")\n",
        "print(\"=\"*60)\n",
        "\n",
        "exercise_prompts = \"\"\"\n",
        "🎯 EXERCISES TO TRY:\n",
        "\n",
        "1. TOKENIZATION EXPERIMENTS:\n",
        "   - Try different tokenization strategies (word-level, subword)\n",
        "   - Implement BPE (Byte Pair Encoding) tokenization\n",
        "   - Compare vocabulary sizes and model performance\n",
        "\n",
        "2. MODEL ARCHITECTURE:\n",
        "   - Experiment with different model sizes (n_embd, n_layer, n_head)\n",
        "   - Add more sophisticated positional encodings\n",
        "   - Implement rotary positional embeddings (RoPE)\n",
        "\n",
        "3. TRAINING IMPROVEMENTS:\n",
        "   - Implement learning rate scheduling\n",
        "   - Add gradient clipping\n",
        "   - Try different optimizers (Adam, AdamW, Lion)\n",
        "\n",
        "4. DATA AUGMENTATION:\n",
        "   - Create more diverse instruction-following data\n",
        "   - Implement data augmentation techniques\n",
        "   - Add different types of tasks (summarization, QA, etc.)\n",
        "\n",
        "5. REWARD MODEL ENHANCEMENTS:\n",
        "   - Build a more sophisticated reward model\n",
        "   - Implement multiple reward criteria (helpfulness, harmlessness, honesty)\n",
        "   - Add constitutional AI principles\n",
        "\n",
        "6. RLHF IMPROVEMENTS:\n",
        "   - Implement proper PPO (Proximal Policy Optimization)\n",
        "   - Add KL divergence penalty to prevent mode collapse\n",
        "   - Implement rejection sampling and best-of-N sampling\n",
        "\n",
        "7. EVALUATION:\n",
        "   - Implement automatic evaluation metrics\n",
        "   - Create human evaluation interfaces\n",
        "   - Compare models at different training stages\n",
        "\n",
        "8. SCALING:\n",
        "   - Train on larger datasets\n",
        "   - Implement distributed training\n",
        "   - Experiment with model parallelism\n",
        "\n",
        "💡 RESEARCH QUESTIONS:\n",
        "- How does model size affect the quality of instruction following?\n",
        "- What's the optimal ratio of pre-training to fine-tuning data?\n",
        "- How sensitive is RLHF to the quality of the reward model?\n",
        "- Can you implement constitutional AI or other alignment techniques?\n",
        "\"\"\"\n",
        "\n",
        "print(exercise_prompts)\n",
        "\n",
        "print(\"\\n🎓 CONGRATULATIONS!\")\n",
        "print(\"You've successfully built a GPT model from scratch and taken it through\")\n",
        "print(\"the complete training pipeline: Pre-training → SFT → RLHF\")\n",
        "print(\"\\nKey takeaways:\")\n",
        "print(\"1. Pre-training teaches the model language and world knowledge\")\n",
        "print(\"2. SFT teaches the model to follow instructions and be helpful\")\n",
        "print(\"3. RLHF aligns the model with human preferences and values\")\n",
        "print(\"\\nNow go forth and build amazing AI systems! 🚀\")"
      ],
      "metadata": {
        "colab": {
          "base_uri": "https://localhost:8080/"
        },
        "id": "mhZpSDdSExTG",
        "outputId": "8a394b74-f718-4d18-e02c-56a59ab4c347"
      },
      "execution_count": 22,
      "outputs": [
        {
          "output_type": "stream",
          "name": "stdout",
          "text": [
            "\n",
            "============================================================\n",
            "SECTION 8: EXERCISES FOR STUDENTS\n",
            "============================================================\n",
            "\n",
            "🎯 EXERCISES TO TRY:\n",
            "\n",
            "1. TOKENIZATION EXPERIMENTS:\n",
            "   - Try different tokenization strategies (word-level, subword)\n",
            "   - Implement BPE (Byte Pair Encoding) tokenization\n",
            "   - Compare vocabulary sizes and model performance\n",
            "\n",
            "2. MODEL ARCHITECTURE:\n",
            "   - Experiment with different model sizes (n_embd, n_layer, n_head)\n",
            "   - Add more sophisticated positional encodings\n",
            "   - Implement rotary positional embeddings (RoPE)\n",
            "\n",
            "3. TRAINING IMPROVEMENTS:\n",
            "   - Implement learning rate scheduling\n",
            "   - Add gradient clipping\n",
            "   - Try different optimizers (Adam, AdamW, Lion)\n",
            "\n",
            "4. DATA AUGMENTATION:\n",
            "   - Create more diverse instruction-following data\n",
            "   - Implement data augmentation techniques\n",
            "   - Add different types of tasks (summarization, QA, etc.)\n",
            "\n",
            "5. REWARD MODEL ENHANCEMENTS:\n",
            "   - Build a more sophisticated reward model\n",
            "   - Implement multiple reward criteria (helpfulness, harmlessness, honesty)\n",
            "   - Add constitutional AI principles\n",
            "\n",
            "6. RLHF IMPROVEMENTS:\n",
            "   - Implement proper PPO (Proximal Policy Optimization)\n",
            "   - Add KL divergence penalty to prevent mode collapse\n",
            "   - Implement rejection sampling and best-of-N sampling\n",
            "\n",
            "7. EVALUATION:\n",
            "   - Implement automatic evaluation metrics\n",
            "   - Create human evaluation interfaces\n",
            "   - Compare models at different training stages\n",
            "\n",
            "8. SCALING:\n",
            "   - Train on larger datasets\n",
            "   - Implement distributed training\n",
            "   - Experiment with model parallelism\n",
            "\n",
            "💡 RESEARCH QUESTIONS:\n",
            "- How does model size affect the quality of instruction following?\n",
            "- What's the optimal ratio of pre-training to fine-tuning data?\n",
            "- How sensitive is RLHF to the quality of the reward model?\n",
            "- Can you implement constitutional AI or other alignment techniques?\n",
            "\n",
            "\n",
            "🎓 CONGRATULATIONS!\n",
            "You've successfully built a GPT model from scratch and taken it through\n",
            "the complete training pipeline: Pre-training → SFT → RLHF\n",
            "\n",
            "Key takeaways:\n",
            "1. Pre-training teaches the model language and world knowledge\n",
            "2. SFT teaches the model to follow instructions and be helpful\n",
            "3. RLHF aligns the model with human preferences and values\n",
            "\n",
            "Now go forth and build amazing AI systems! 🚀\n"
          ]
        }
      ]
    },
    {
      "cell_type": "code",
      "source": [],
      "metadata": {
        "id": "omvCO4ztGP7C"
      },
      "execution_count": null,
      "outputs": []
    }
  ]
}